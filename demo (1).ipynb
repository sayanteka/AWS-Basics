{
 "cells": [
  {
   "cell_type": "code",
   "execution_count": 1,
   "id": "703f6c11-98ed-4cdc-a5a5-71dfc871d9cc",
   "metadata": {},
   "outputs": [
    {
     "name": "stdout",
     "output_type": "stream",
     "text": [
      "File 'random_data.csv' uploaded to 'data' in bucket 'sagemaker-eu-north-1-867344468580'.\n"
     ]
    }
   ],
   "source": [
    "import pandas as pd\n",
    "import boto3\n",
    "import random\n",
    "import string\n",
    "import io\n",
    "\n",
    "# Generate random data\n",
    "def generate_random_data(rows=100):\n",
    "    data = {\n",
    "        \"Column1\": [random.randint(1, 100) for _ in range(rows)],\n",
    "        \"Column2\": [random.uniform(1.0, 100.0) for _ in range(rows)],\n",
    "        \"Column3\": [''.join(random.choices(string.ascii_letters, k=5)) for _ in range(rows)],\n",
    "    }\n",
    "    df = pd.DataFrame(data)\n",
    "    return df\n",
    "\n",
    "# Upload to S3\n",
    "def upload_to_s3(dataframe, bucket_name, file_name, folder_path, region_name='eu-north-1'):\n",
    "    # Convert DataFrame to CSV in-memory\n",
    "    csv_buffer = io.StringIO()\n",
    "    dataframe.to_csv(csv_buffer, index=False)\n",
    "\n",
    "    # Initialize S3 client\n",
    "    s3 = boto3.client('s3', region_name=region_name)\n",
    "\n",
    "    # Full key (folder path + file name)\n",
    "    key = f\"{folder_path}/{file_name}\"\n",
    "\n",
    "    # Upload the file\n",
    "    s3.put_object(Bucket=bucket_name, Key=key, Body=csv_buffer.getvalue())\n",
    "    print(f\"File '{file_name}' uploaded to '{folder_path}' in bucket '{bucket_name}'.\")\n",
    "\n",
    "# Main execution\n",
    "if __name__ == \"__main__\":\n",
    "    BUCKET_NAME = \"sagemaker-eu-north-1-867344468580\"  # Your bucket name\n",
    "    FILE_NAME = \"random_data.csv\"\n",
    "    FOLDER_PATH = \"data\"  # Folder inside the bucket\n",
    "\n",
    "    # Generate data and upload\n",
    "    random_data = generate_random_data(rows=50)\n",
    "    upload_to_s3(random_data, BUCKET_NAME, FILE_NAME, FOLDER_PATH)\n"
   ]
  },
  {
   "cell_type": "code",
   "execution_count": 2,
   "id": "d5571204-1102-456b-93ec-a2a4966521bc",
   "metadata": {},
   "outputs": [
    {
     "name": "stdout",
     "output_type": "stream",
     "text": [
      "Writing upload_to_s3.py\n"
     ]
    }
   ],
   "source": [
    "%%writefile upload_to_s3.py\n",
    "\n",
    "import pandas as pd\n",
    "import boto3\n",
    "import random\n",
    "import string\n",
    "import io\n",
    "\n",
    "# Generate random data\n",
    "def generate_random_data(rows=100):\n",
    "    data = {\n",
    "        \"Column1\": [random.randint(1, 100) for _ in range(rows)],\n",
    "        \"Column2\": [random.uniform(1.0, 100.0) for _ in range(rows)],\n",
    "        \"Column3\": [''.join(random.choices(string.ascii_letters, k=5)) for _ in range(rows)],\n",
    "    }\n",
    "    df = pd.DataFrame(data)\n",
    "    return df\n",
    "\n",
    "# Upload to S3\n",
    "def upload_to_s3(dataframe, bucket_name, file_name, folder_path, region_name='eu-north-1'):\n",
    "    # Convert DataFrame to CSV in-memory\n",
    "    csv_buffer = io.StringIO()\n",
    "    dataframe.to_csv(csv_buffer, index=False)\n",
    "\n",
    "    # Initialize S3 client\n",
    "    s3 = boto3.client('s3', region_name=region_name)\n",
    "\n",
    "    # Full key (folder path + file name)\n",
    "    key = f\"{folder_path}/{file_name}\"\n",
    "\n",
    "    # Upload the file\n",
    "    s3.put_object(Bucket=bucket_name, Key=key, Body=csv_buffer.getvalue())\n",
    "    print(f\"File '{file_name}' uploaded to '{folder_path}' in bucket '{bucket_name}'.\")\n",
    "\n",
    "# Main execution\n"
   ]
  },
  {
   "cell_type": "code",
   "execution_count": null,
   "id": "409f8fde-b798-4948-ae42-23637954b3e6",
   "metadata": {},
   "outputs": [],
   "source": []
  }
 ],
 "metadata": {
  "kernelspec": {
   "display_name": "Python 3 (ipykernel)",
   "language": "python",
   "name": "python3"
  },
  "language_info": {
   "codemirror_mode": {
    "name": "ipython",
    "version": 3
   },
   "file_extension": ".py",
   "mimetype": "text/x-python",
   "name": "python",
   "nbconvert_exporter": "python",
   "pygments_lexer": "ipython3",
   "version": "3.11.10"
  }
 },
 "nbformat": 4,
 "nbformat_minor": 5
}
